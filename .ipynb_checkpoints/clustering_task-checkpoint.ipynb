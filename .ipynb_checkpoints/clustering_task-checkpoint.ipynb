{
 "cells": [
  {
   "cell_type": "code",
   "execution_count": 4,
   "id": "initial_id",
   "metadata": {},
   "outputs": [
    {
     "ename": "ModuleNotFoundError",
     "evalue": "No module named 'cv2'",
     "output_type": "error",
     "traceback": [
      "\u001b[1;31m---------------------------------------------------------------------------\u001b[0m",
      "\u001b[1;31mModuleNotFoundError\u001b[0m                       Traceback (most recent call last)",
      "Cell \u001b[1;32mIn[4], line 9\u001b[0m\n\u001b[0;32m      1\u001b[0m \u001b[38;5;66;03m# Foundations of Data Mining - Practical Task 1\u001b[39;00m\n\u001b[0;32m      2\u001b[0m \u001b[38;5;66;03m# Version 2.0 (2023-11-02)\u001b[39;00m\n\u001b[0;32m      3\u001b[0m \u001b[38;5;66;03m###############################################\u001b[39;00m\n\u001b[1;32m   (...)\u001b[0m\n\u001b[0;32m      6\u001b[0m \u001b[38;5;66;03m# That being said, you MAY change it. However, your implementation has \u001b[39;00m\n\u001b[0;32m      7\u001b[0m \u001b[38;5;66;03m# to work with the original version of this file.\u001b[39;00m\n\u001b[1;32m----> 9\u001b[0m \u001b[38;5;28;01mimport\u001b[39;00m \u001b[38;5;21;01mcv2\u001b[39;00m  \u001b[38;5;66;03m# for image loading\u001b[39;00m\n\u001b[0;32m     10\u001b[0m \u001b[38;5;28;01mimport\u001b[39;00m \u001b[38;5;21;01mnumpy\u001b[39;00m \u001b[38;5;28;01mas\u001b[39;00m \u001b[38;5;21;01mnp\u001b[39;00m  \u001b[38;5;66;03m# general library for numerical and scientific computing\u001b[39;00m\n\u001b[0;32m     11\u001b[0m \u001b[38;5;28;01mimport\u001b[39;00m \u001b[38;5;21;01mmatplotlib\u001b[39;00m\u001b[38;5;21;01m.\u001b[39;00m\u001b[38;5;21;01mpyplot\u001b[39;00m \u001b[38;5;28;01mas\u001b[39;00m \u001b[38;5;21;01mplt\u001b[39;00m  \u001b[38;5;66;03m# for plotting the images\u001b[39;00m\n",
      "\u001b[1;31mModuleNotFoundError\u001b[0m: No module named 'cv2'"
     ]
    }
   ],
   "source": [
    "# Foundations of Data Mining - Practical Task 1\n",
    "# Version 2.0 (2023-11-02)\n",
    "###############################################\n",
    "# Template for a notebook that clusters pixel data of a given image.\n",
    "# This file does not have to be changed in order to complete the task.\n",
    "# That being said, you MAY change it. However, your implementation has \n",
    "# to work with the original version of this file.\n",
    "\n",
    "import cv2  # for image loading\n",
    "import numpy as np  # general library for numerical and scientific computing\n",
    "import matplotlib.pyplot as plt  # for plotting the images\n",
    "\n",
    "# For testing purposes ONLY(!), you may uncomment the following two import statements.\n",
    "# Use them to see how the program is supposed to work with your implementation and \n",
    "# what kind of content the variables should have.\n",
    "# Comment out or delete these imports before you submit your code!\n",
    "# from sklearn.cluster import KMeans\n",
    "# from sklearn.cluster import DBSCAN\n",
    "\n",
    "# Importing your own implementation:\n",
    "from clustering_algorithms import CustomKMeans as KMeans\n",
    "from clustering_algorithms import CustomDBSCAN as DBSCAN\n",
    "\n",
    "# Loading an image (replace filename if you want):\n",
    "image_path = 'giraffe.png'\n",
    "image = cv2.imread(image_path)\n",
    "\n",
    "# Reducing the size of the image, so that DBSCAN runs in a reasonable amount of time:\n",
    "# small_image is 0.5x the size of the original. You may change this value.\n",
    "image = cv2.resize(image, None, fx=0.5, fy=0.5, interpolation=cv2.INTER_AREA)\n",
    "\n",
    "height, width, _ = image.shape\n",
    "pixel_data = image.reshape(-1, 3)"
   ]
  },
  {
   "cell_type": "code",
   "execution_count": 5,
   "id": "e2a959e9602a17e6",
   "metadata": {},
   "outputs": [
    {
     "ename": "NameError",
     "evalue": "name 'KMeans' is not defined",
     "output_type": "error",
     "traceback": [
      "\u001b[1;31m---------------------------------------------------------------------------\u001b[0m",
      "\u001b[1;31mNameError\u001b[0m                                 Traceback (most recent call last)",
      "Cell \u001b[1;32mIn[5], line 6\u001b[0m\n\u001b[0;32m      3\u001b[0m k \u001b[38;5;241m=\u001b[39m \u001b[38;5;241m4\u001b[39m\n\u001b[0;32m      5\u001b[0m \u001b[38;5;66;03m# Performing the clustering:\u001b[39;00m\n\u001b[1;32m----> 6\u001b[0m kmeans \u001b[38;5;241m=\u001b[39m KMeans(n_clusters\u001b[38;5;241m=\u001b[39mk)\n\u001b[0;32m      7\u001b[0m kmeans_labels \u001b[38;5;241m=\u001b[39m kmeans\u001b[38;5;241m.\u001b[39mfit_predict(pixel_data)\n",
      "\u001b[1;31mNameError\u001b[0m: name 'KMeans' is not defined"
     ]
    }
   ],
   "source": [
    "# k-means\n",
    "# Setting hyperparameter(s):\n",
    "k = 4\n",
    "\n",
    "# Performing the clustering:\n",
    "kmeans = KMeans(n_clusters=k)\n",
    "kmeans_labels = kmeans.fit_predict(pixel_data)"
   ]
  },
  {
   "cell_type": "code",
   "execution_count": null,
   "id": "8ee497711151eed1",
   "metadata": {},
   "outputs": [],
   "source": [
    "# DBSCAN\n",
    "# Setting hyperparameter(s):\n",
    "eps = 5 \n",
    "min_pts = 30\n",
    "\n",
    "# Performing the clustering:\n",
    "dbscan = DBSCAN(eps=eps, min_samples=min_pts)\n",
    "dbscan_labels = dbscan.fit_predict(pixel_data)"
   ]
  },
  {
   "cell_type": "code",
   "execution_count": null,
   "id": "ada378c3674377ce",
   "metadata": {},
   "outputs": [],
   "source": [
    "# Getting average cluster colors for each clustering:\n",
    "# (In theory, we can also use the centroids from k-means as average colors.\n",
    "# Here we ignore that for the sake of a unified method.)\n",
    "for cl_name, cl_labels in (('kmeans', kmeans_labels), ('dbscan', dbscan_labels)):\n",
    "    cluster_centers = {}\n",
    "    cluster_counts = {}\n",
    "    \n",
    "    for i, label in enumerate(cl_labels):\n",
    "        if label not in cluster_centers:\n",
    "            cluster_centers[label] = [0, 0, 0]\n",
    "            cluster_counts[label] = 0\n",
    "        \n",
    "        cluster_centers[label] = [sum(x) for x in zip(cluster_centers[label], pixel_data[i])]\n",
    "        cluster_counts[label] += 1\n",
    "    \n",
    "    for label in cluster_centers:\n",
    "        cluster_centers[label] = [x / cluster_counts[label] for x in cluster_centers[label]]\n",
    "    \n",
    "    # Creating a new image with the cluster centers as pixel values:\n",
    "    new_image = np.array([cluster_centers[label] for label in cl_labels], dtype=np.uint8)\n",
    "    new_image = new_image.reshape(height, width, 3)\n",
    "    _ = cv2.imwrite(f'{cl_name}_output.jpg', new_image)"
   ]
  },
  {
   "cell_type": "code",
   "execution_count": 3,
   "id": "fbb86ab9b03d7215",
   "metadata": {},
   "outputs": [
    {
     "ename": "NameError",
     "evalue": "name 'plt' is not defined",
     "output_type": "error",
     "traceback": [
      "\u001b[1;31m---------------------------------------------------------------------------\u001b[0m",
      "\u001b[1;31mNameError\u001b[0m                                 Traceback (most recent call last)",
      "Cell \u001b[1;32mIn[3], line 2\u001b[0m\n\u001b[0;32m      1\u001b[0m \u001b[38;5;66;03m# Displaying the images:\u001b[39;00m\n\u001b[1;32m----> 2\u001b[0m plt\u001b[38;5;241m.\u001b[39mfigure(figsize\u001b[38;5;241m=\u001b[39m(\u001b[38;5;241m15\u001b[39m, \u001b[38;5;241m5\u001b[39m)) \n\u001b[0;32m      4\u001b[0m \u001b[38;5;66;03m# Original image:\u001b[39;00m\n\u001b[0;32m      5\u001b[0m image1 \u001b[38;5;241m=\u001b[39m cv2\u001b[38;5;241m.\u001b[39mimread(image_path)\n",
      "\u001b[1;31mNameError\u001b[0m: name 'plt' is not defined"
     ]
    }
   ],
   "source": [
    "# Displaying the images:\n",
    "plt.figure(figsize=(15, 5)) \n",
    "\n",
    "# Original image:\n",
    "image1 = cv2.imread(image_path)\n",
    "plt.subplot(1, 3, 1)\n",
    "plt.imshow(cv2.cvtColor(image1, cv2.COLOR_BGR2RGB))\n",
    "plt.title('original')\n",
    "\n",
    "# k-means image:\n",
    "image2 = cv2.imread('kmeans_output.jpg')\n",
    "plt.subplot(1, 3, 2)\n",
    "plt.imshow(cv2.cvtColor(image2, cv2.COLOR_BGR2RGB))\n",
    "plt.title(f'k-means ({k=})')\n",
    "\n",
    "# DBSCAN image:\n",
    "image3 = cv2.imread('dbscan_output.jpg')\n",
    "plt.subplot(1, 3, 3)\n",
    "plt.imshow(cv2.cvtColor(image3, cv2.COLOR_BGR2RGB))\n",
    "plt.title(f'DBSCAN ({min_pts=}, {eps=})')\n",
    "\n",
    "plt.show()"
   ]
  }
 ],
 "metadata": {
  "kernelspec": {
   "display_name": "Python 3 (ipykernel)",
   "language": "python",
   "name": "python3"
  },
  "language_info": {
   "codemirror_mode": {
    "name": "ipython",
    "version": 3
   },
   "file_extension": ".py",
   "mimetype": "text/x-python",
   "name": "python",
   "nbconvert_exporter": "python",
   "pygments_lexer": "ipython3",
   "version": "3.11.5"
  }
 },
 "nbformat": 4,
 "nbformat_minor": 5
}
